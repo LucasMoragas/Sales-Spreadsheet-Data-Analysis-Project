{
 "cells": [
  {
   "cell_type": "markdown",
   "id": "9965ae79-165e-46ec-b7c1-e9c8aeb9489c",
   "metadata": {
    "tags": []
   },
   "source": [
    "## Relatório do Vendas"
   ]
  },
  {
   "cell_type": "code",
   "execution_count": 90,
   "id": "bace90bf-eb94-4214-a67f-89fd2c8934f8",
   "metadata": {},
   "outputs": [],
   "source": [
    "import pandas as pd\n",
    "import matplotlib.pyplot as plt"
   ]
  },
  {
   "cell_type": "code",
   "execution_count": 91,
   "id": "95ea87dc-20c1-45a3-8435-f69f0c0c4f46",
   "metadata": {},
   "outputs": [],
   "source": [
    "dfVendasAracaju = pd.read_excel(\"datasets/Aracaju.xlsx\")\n",
    "dfVendasFortaleza = pd.read_excel(\"datasets/Fortaleza.xlsx\")\n",
    "dfVendasNatal = pd.read_excel(\"datasets/Natal.xlsx\")\n",
    "dfVendasRecife = pd.read_excel(\"datasets/Recife.xlsx\")\n",
    "dfVendasSalvador = pd.read_excel(\"datasets/Salvador.xlsx\")"
   ]
  },
  {
   "cell_type": "code",
   "execution_count": 92,
   "id": "15a6daba-4085-4232-813b-29430a5f7d5c",
   "metadata": {},
   "outputs": [
    {
     "data": {
      "text/html": [
       "<div>\n",
       "<style scoped>\n",
       "    .dataframe tbody tr th:only-of-type {\n",
       "        vertical-align: middle;\n",
       "    }\n",
       "\n",
       "    .dataframe tbody tr th {\n",
       "        vertical-align: top;\n",
       "    }\n",
       "\n",
       "    .dataframe thead th {\n",
       "        text-align: right;\n",
       "    }\n",
       "</style>\n",
       "<table border=\"1\" class=\"dataframe\">\n",
       "  <thead>\n",
       "    <tr style=\"text-align: right;\">\n",
       "      <th></th>\n",
       "      <th>Cidade</th>\n",
       "      <th>Data</th>\n",
       "      <th>Vendas</th>\n",
       "      <th>LojaID</th>\n",
       "      <th>Qtde</th>\n",
       "    </tr>\n",
       "  </thead>\n",
       "  <tbody>\n",
       "    <tr>\n",
       "      <th>0</th>\n",
       "      <td>Aracaju</td>\n",
       "      <td>2018-01-01</td>\n",
       "      <td>142.00</td>\n",
       "      <td>1520</td>\n",
       "      <td>1</td>\n",
       "    </tr>\n",
       "    <tr>\n",
       "      <th>1</th>\n",
       "      <td>Aracaju</td>\n",
       "      <td>2018-01-01</td>\n",
       "      <td>14.21</td>\n",
       "      <td>1522</td>\n",
       "      <td>6</td>\n",
       "    </tr>\n",
       "    <tr>\n",
       "      <th>2</th>\n",
       "      <td>Aracaju</td>\n",
       "      <td>2018-01-01</td>\n",
       "      <td>71.55</td>\n",
       "      <td>1520</td>\n",
       "      <td>1</td>\n",
       "    </tr>\n",
       "    <tr>\n",
       "      <th>3</th>\n",
       "      <td>Aracaju</td>\n",
       "      <td>2018-01-01</td>\n",
       "      <td>3.01</td>\n",
       "      <td>1521</td>\n",
       "      <td>7</td>\n",
       "    </tr>\n",
       "    <tr>\n",
       "      <th>4</th>\n",
       "      <td>Aracaju</td>\n",
       "      <td>2018-01-01</td>\n",
       "      <td>24.51</td>\n",
       "      <td>1522</td>\n",
       "      <td>8</td>\n",
       "    </tr>\n",
       "  </tbody>\n",
       "</table>\n",
       "</div>"
      ],
      "text/plain": [
       "    Cidade       Data  Vendas  LojaID  Qtde\n",
       "0  Aracaju 2018-01-01  142.00    1520     1\n",
       "1  Aracaju 2018-01-01   14.21    1522     6\n",
       "2  Aracaju 2018-01-01   71.55    1520     1\n",
       "3  Aracaju 2018-01-01    3.01    1521     7\n",
       "4  Aracaju 2018-01-01   24.51    1522     8"
      ]
     },
     "execution_count": 92,
     "metadata": {},
     "output_type": "execute_result"
    }
   ],
   "source": [
    "dfVendasAracaju.head()"
   ]
  },
  {
   "cell_type": "markdown",
   "id": "b72e57f1-fffb-49d5-89d9-d5a946b157b7",
   "metadata": {},
   "source": [
    "- Foi obeservado que todos os arquivos tem a mesma estrutura, dessa forma para vacilar a análise vamos concatena-los em um dataframe úinico."
   ]
  },
  {
   "cell_type": "code",
   "execution_count": 93,
   "id": "1fd75395-408e-40dd-84ff-0cd3708873c0",
   "metadata": {},
   "outputs": [],
   "source": [
    "#Usando o método de concatenação \"concat\"\n",
    "dfLojas = pd.concat([dfVendasAracaju, dfVendasFortaleza, dfVendasNatal, dfVendasRecife, dfVendasSalvador])"
   ]
  },
  {
   "cell_type": "code",
   "execution_count": 94,
   "id": "9e3b1001-8775-4f4b-aba4-09de94bf0ff6",
   "metadata": {},
   "outputs": [
    {
     "data": {
      "text/html": [
       "<div>\n",
       "<style scoped>\n",
       "    .dataframe tbody tr th:only-of-type {\n",
       "        vertical-align: middle;\n",
       "    }\n",
       "\n",
       "    .dataframe tbody tr th {\n",
       "        vertical-align: top;\n",
       "    }\n",
       "\n",
       "    .dataframe thead th {\n",
       "        text-align: right;\n",
       "    }\n",
       "</style>\n",
       "<table border=\"1\" class=\"dataframe\">\n",
       "  <thead>\n",
       "    <tr style=\"text-align: right;\">\n",
       "      <th></th>\n",
       "      <th>Cidade</th>\n",
       "      <th>Data</th>\n",
       "      <th>Vendas</th>\n",
       "      <th>LojaID</th>\n",
       "      <th>Qtde</th>\n",
       "    </tr>\n",
       "  </thead>\n",
       "  <tbody>\n",
       "    <tr>\n",
       "      <th>208</th>\n",
       "      <td>Natal</td>\n",
       "      <td>2019-01-02</td>\n",
       "      <td>39.40</td>\n",
       "      <td>1036</td>\n",
       "      <td>3</td>\n",
       "    </tr>\n",
       "    <tr>\n",
       "      <th>99</th>\n",
       "      <td>Recife</td>\n",
       "      <td>2019-01-01</td>\n",
       "      <td>136.72</td>\n",
       "      <td>980</td>\n",
       "      <td>4</td>\n",
       "    </tr>\n",
       "    <tr>\n",
       "      <th>27</th>\n",
       "      <td>Aracaju</td>\n",
       "      <td>2018-01-01</td>\n",
       "      <td>3.39</td>\n",
       "      <td>1523</td>\n",
       "      <td>4</td>\n",
       "    </tr>\n",
       "    <tr>\n",
       "      <th>60</th>\n",
       "      <td>Natal</td>\n",
       "      <td>2018-05-02</td>\n",
       "      <td>534.00</td>\n",
       "      <td>852</td>\n",
       "      <td>3</td>\n",
       "    </tr>\n",
       "    <tr>\n",
       "      <th>138</th>\n",
       "      <td>Fortaleza</td>\n",
       "      <td>2019-03-02</td>\n",
       "      <td>150.38</td>\n",
       "      <td>983</td>\n",
       "      <td>6</td>\n",
       "    </tr>\n",
       "  </tbody>\n",
       "</table>\n",
       "</div>"
      ],
      "text/plain": [
       "        Cidade       Data  Vendas  LojaID  Qtde\n",
       "208      Natal 2019-01-02   39.40    1036     3\n",
       "99      Recife 2019-01-01  136.72     980     4\n",
       "27     Aracaju 2018-01-01    3.39    1523     4\n",
       "60       Natal 2018-05-02  534.00     852     3\n",
       "138  Fortaleza 2019-03-02  150.38     983     6"
      ]
     },
     "execution_count": 94,
     "metadata": {},
     "output_type": "execute_result"
    }
   ],
   "source": [
    "#Usando o método \"sample\" para obter uma amostra do conjunto de dados\n",
    "dfLojas.sample(5)"
   ]
  },
  {
   "cell_type": "code",
   "execution_count": 95,
   "id": "c5b58844-b0f0-434e-9e7b-dbd5d14f19a9",
   "metadata": {},
   "outputs": [
    {
     "data": {
      "text/plain": [
       "Cidade            object\n",
       "Data      datetime64[ns]\n",
       "Vendas           float64\n",
       "LojaID             int64\n",
       "Qtde               int64\n",
       "dtype: object"
      ]
     },
     "execution_count": 95,
     "metadata": {},
     "output_type": "execute_result"
    }
   ],
   "source": [
    "dfLojas.dtypes"
   ]
  },
  {
   "cell_type": "code",
   "execution_count": 96,
   "id": "847bd747-0f16-458c-8153-995f57ac097e",
   "metadata": {},
   "outputs": [],
   "source": [
    "#Usando o método \"astype\" para alterar o tipo de dado da coluna \"LojaID\" para string\n",
    "dfLojas[\"LojaID\"] = dfLojas[\"LojaID\"].astype(\"object\")"
   ]
  },
  {
   "cell_type": "code",
   "execution_count": 97,
   "id": "910eb1fe-8c67-456a-9499-eba76d377256",
   "metadata": {},
   "outputs": [
    {
     "data": {
      "text/plain": [
       "Cidade            object\n",
       "Data      datetime64[ns]\n",
       "Vendas           float64\n",
       "LojaID            object\n",
       "Qtde               int64\n",
       "dtype: object"
      ]
     },
     "execution_count": 97,
     "metadata": {},
     "output_type": "execute_result"
    }
   ],
   "source": [
    "dfLojas.dtypes"
   ]
  },
  {
   "cell_type": "markdown",
   "id": "75cfb1e5-043e-448a-bd8d-0466e026ed5c",
   "metadata": {},
   "source": [
    "- Verificando a existência de valores nulos."
   ]
  },
  {
   "cell_type": "code",
   "execution_count": 98,
   "id": "14e794fa-a927-4b61-aafa-6703811e8ca7",
   "metadata": {},
   "outputs": [
    {
     "data": {
      "text/plain": [
       "Cidade    0\n",
       "Data      0\n",
       "Vendas    0\n",
       "LojaID    0\n",
       "Qtde      0\n",
       "dtype: int64"
      ]
     },
     "execution_count": 98,
     "metadata": {},
     "output_type": "execute_result"
    }
   ],
   "source": [
    "dfLojas.isnull().sum()"
   ]
  },
  {
   "cell_type": "markdown",
   "id": "bd8610a3-135e-44f8-b1e2-fdabd739df84",
   "metadata": {},
   "source": [
    "- Não foi identificado nenhum valor nulo, mas caso ocorra várias medidas podem ser tomadas para resolver tal problema como:\n",
    "    - Substituir os valores nulos pela média dos valores da coluna;\n",
    "    - Apagar a linha com valor nulo;\n",
    "    - Atribuir o valor 0 ou qualquer outro valor que seja adequado para cada situação."
   ]
  },
  {
   "cell_type": "markdown",
   "id": "6b663e0b-45dd-4759-9ba5-1cfa33c21ef6",
   "metadata": {},
   "source": [
    "- Criando e manipulando a coluna \"Receita\":"
   ]
  },
  {
   "cell_type": "code",
   "execution_count": 99,
   "id": "c6241303-d21b-4bae-99b4-5ce72f06d834",
   "metadata": {},
   "outputs": [],
   "source": [
    "dfLojas[\"Receita\"] = dfLojas[\"Vendas\"].mul(dfLojas[\"Qtde\"])"
   ]
  },
  {
   "cell_type": "code",
   "execution_count": 100,
   "id": "f658abdf-d455-4038-a0d5-adde19cd216f",
   "metadata": {},
   "outputs": [
    {
     "data": {
      "text/html": [
       "<div>\n",
       "<style scoped>\n",
       "    .dataframe tbody tr th:only-of-type {\n",
       "        vertical-align: middle;\n",
       "    }\n",
       "\n",
       "    .dataframe tbody tr th {\n",
       "        vertical-align: top;\n",
       "    }\n",
       "\n",
       "    .dataframe thead th {\n",
       "        text-align: right;\n",
       "    }\n",
       "</style>\n",
       "<table border=\"1\" class=\"dataframe\">\n",
       "  <thead>\n",
       "    <tr style=\"text-align: right;\">\n",
       "      <th></th>\n",
       "      <th>Cidade</th>\n",
       "      <th>Data</th>\n",
       "      <th>Vendas</th>\n",
       "      <th>LojaID</th>\n",
       "      <th>Qtde</th>\n",
       "      <th>Receita</th>\n",
       "    </tr>\n",
       "  </thead>\n",
       "  <tbody>\n",
       "    <tr>\n",
       "      <th>21</th>\n",
       "      <td>Fortaleza</td>\n",
       "      <td>2019-01-01</td>\n",
       "      <td>40.63</td>\n",
       "      <td>1004</td>\n",
       "      <td>3</td>\n",
       "      <td>121.89</td>\n",
       "    </tr>\n",
       "    <tr>\n",
       "      <th>31</th>\n",
       "      <td>Aracaju</td>\n",
       "      <td>2018-01-01</td>\n",
       "      <td>171.16</td>\n",
       "      <td>1520</td>\n",
       "      <td>9</td>\n",
       "      <td>1540.44</td>\n",
       "    </tr>\n",
       "    <tr>\n",
       "      <th>25</th>\n",
       "      <td>Fortaleza</td>\n",
       "      <td>2019-01-01</td>\n",
       "      <td>80.31</td>\n",
       "      <td>1004</td>\n",
       "      <td>4</td>\n",
       "      <td>321.24</td>\n",
       "    </tr>\n",
       "    <tr>\n",
       "      <th>82</th>\n",
       "      <td>Salvador</td>\n",
       "      <td>2019-01-01</td>\n",
       "      <td>207.88</td>\n",
       "      <td>1035</td>\n",
       "      <td>1</td>\n",
       "      <td>207.88</td>\n",
       "    </tr>\n",
       "    <tr>\n",
       "      <th>171</th>\n",
       "      <td>Salvador</td>\n",
       "      <td>2019-01-02</td>\n",
       "      <td>136.45</td>\n",
       "      <td>1035</td>\n",
       "      <td>3</td>\n",
       "      <td>409.35</td>\n",
       "    </tr>\n",
       "    <tr>\n",
       "      <th>188</th>\n",
       "      <td>Salvador</td>\n",
       "      <td>2019-01-02</td>\n",
       "      <td>178.11</td>\n",
       "      <td>1035</td>\n",
       "      <td>3</td>\n",
       "      <td>534.33</td>\n",
       "    </tr>\n",
       "    <tr>\n",
       "      <th>35</th>\n",
       "      <td>Fortaleza</td>\n",
       "      <td>2019-01-01</td>\n",
       "      <td>133.97</td>\n",
       "      <td>1005</td>\n",
       "      <td>2</td>\n",
       "      <td>267.94</td>\n",
       "    </tr>\n",
       "    <tr>\n",
       "      <th>94</th>\n",
       "      <td>Salvador</td>\n",
       "      <td>2019-01-01</td>\n",
       "      <td>33.24</td>\n",
       "      <td>1037</td>\n",
       "      <td>1</td>\n",
       "      <td>33.24</td>\n",
       "    </tr>\n",
       "    <tr>\n",
       "      <th>58</th>\n",
       "      <td>Recife</td>\n",
       "      <td>2019-01-01</td>\n",
       "      <td>8.02</td>\n",
       "      <td>983</td>\n",
       "      <td>2</td>\n",
       "      <td>16.04</td>\n",
       "    </tr>\n",
       "    <tr>\n",
       "      <th>92</th>\n",
       "      <td>Recife</td>\n",
       "      <td>2019-01-01</td>\n",
       "      <td>163.02</td>\n",
       "      <td>981</td>\n",
       "      <td>4</td>\n",
       "      <td>652.08</td>\n",
       "    </tr>\n",
       "  </tbody>\n",
       "</table>\n",
       "</div>"
      ],
      "text/plain": [
       "        Cidade       Data  Vendas LojaID  Qtde  Receita\n",
       "21   Fortaleza 2019-01-01   40.63   1004     3   121.89\n",
       "31     Aracaju 2018-01-01  171.16   1520     9  1540.44\n",
       "25   Fortaleza 2019-01-01   80.31   1004     4   321.24\n",
       "82    Salvador 2019-01-01  207.88   1035     1   207.88\n",
       "171   Salvador 2019-01-02  136.45   1035     3   409.35\n",
       "188   Salvador 2019-01-02  178.11   1035     3   534.33\n",
       "35   Fortaleza 2019-01-01  133.97   1005     2   267.94\n",
       "94    Salvador 2019-01-01   33.24   1037     1    33.24\n",
       "58      Recife 2019-01-01    8.02    983     2    16.04\n",
       "92      Recife 2019-01-01  163.02    981     4   652.08"
      ]
     },
     "execution_count": 100,
     "metadata": {},
     "output_type": "execute_result"
    }
   ],
   "source": [
    "dfLojas.sample(10)"
   ]
  },
  {
   "cell_type": "code",
   "execution_count": 101,
   "id": "d69e8ee8-570a-4c6e-9cf7-b51b813b515d",
   "metadata": {},
   "outputs": [
    {
     "data": {
      "text/plain": [
       "3544.0"
      ]
     },
     "execution_count": 101,
     "metadata": {},
     "output_type": "execute_result"
    }
   ],
   "source": [
    "#Receita máxima\n",
    "dfLojas[\"Receita\"].max()"
   ]
  },
  {
   "cell_type": "code",
   "execution_count": 102,
   "id": "74c4f4b3-ddcd-4e7a-bf15-3c75026f18af",
   "metadata": {},
   "outputs": [
    {
     "data": {
      "text/plain": [
       "3.34"
      ]
     },
     "execution_count": 102,
     "metadata": {},
     "output_type": "execute_result"
    }
   ],
   "source": [
    "#Receita mínima\n",
    "dfLojas[\"Receita\"].min()"
   ]
  },
  {
   "cell_type": "code",
   "execution_count": 103,
   "id": "89ff32be-33db-4a3f-9cec-f88d47a05f1d",
   "metadata": {},
   "outputs": [
    {
     "data": {
      "text/html": [
       "<div>\n",
       "<style scoped>\n",
       "    .dataframe tbody tr th:only-of-type {\n",
       "        vertical-align: middle;\n",
       "    }\n",
       "\n",
       "    .dataframe tbody tr th {\n",
       "        vertical-align: top;\n",
       "    }\n",
       "\n",
       "    .dataframe thead th {\n",
       "        text-align: right;\n",
       "    }\n",
       "</style>\n",
       "<table border=\"1\" class=\"dataframe\">\n",
       "  <thead>\n",
       "    <tr style=\"text-align: right;\">\n",
       "      <th></th>\n",
       "      <th>Cidade</th>\n",
       "      <th>Data</th>\n",
       "      <th>Vendas</th>\n",
       "      <th>LojaID</th>\n",
       "      <th>Qtde</th>\n",
       "      <th>Receita</th>\n",
       "    </tr>\n",
       "  </thead>\n",
       "  <tbody>\n",
       "    <tr>\n",
       "      <th>7</th>\n",
       "      <td>Natal</td>\n",
       "      <td>2019-03-18</td>\n",
       "      <td>886.0</td>\n",
       "      <td>853</td>\n",
       "      <td>4</td>\n",
       "      <td>3544.0</td>\n",
       "    </tr>\n",
       "    <tr>\n",
       "      <th>51</th>\n",
       "      <td>Natal</td>\n",
       "      <td>2018-01-21</td>\n",
       "      <td>859.0</td>\n",
       "      <td>852</td>\n",
       "      <td>4</td>\n",
       "      <td>3436.0</td>\n",
       "    </tr>\n",
       "    <tr>\n",
       "      <th>55</th>\n",
       "      <td>Natal</td>\n",
       "      <td>2019-01-08</td>\n",
       "      <td>859.0</td>\n",
       "      <td>854</td>\n",
       "      <td>4</td>\n",
       "      <td>3436.0</td>\n",
       "    </tr>\n",
       "  </tbody>\n",
       "</table>\n",
       "</div>"
      ],
      "text/plain": [
       "   Cidade       Data  Vendas LojaID  Qtde  Receita\n",
       "7   Natal 2019-03-18   886.0    853     4   3544.0\n",
       "51  Natal 2018-01-21   859.0    852     4   3436.0\n",
       "55  Natal 2019-01-08   859.0    854     4   3436.0"
      ]
     },
     "execution_count": 103,
     "metadata": {},
     "output_type": "execute_result"
    }
   ],
   "source": [
    "#Obtendo as 3 maiores receitas\n",
    "dfLojas.nlargest(3, \"Receita\")"
   ]
  },
  {
   "cell_type": "code",
   "execution_count": 104,
   "id": "06cbbdad-40d4-4df5-a54f-5fdd9e6b3400",
   "metadata": {},
   "outputs": [
    {
     "data": {
      "text/html": [
       "<div>\n",
       "<style scoped>\n",
       "    .dataframe tbody tr th:only-of-type {\n",
       "        vertical-align: middle;\n",
       "    }\n",
       "\n",
       "    .dataframe tbody tr th {\n",
       "        vertical-align: top;\n",
       "    }\n",
       "\n",
       "    .dataframe thead th {\n",
       "        text-align: right;\n",
       "    }\n",
       "</style>\n",
       "<table border=\"1\" class=\"dataframe\">\n",
       "  <thead>\n",
       "    <tr style=\"text-align: right;\">\n",
       "      <th></th>\n",
       "      <th>Cidade</th>\n",
       "      <th>Data</th>\n",
       "      <th>Vendas</th>\n",
       "      <th>LojaID</th>\n",
       "      <th>Qtde</th>\n",
       "      <th>Receita</th>\n",
       "    </tr>\n",
       "  </thead>\n",
       "  <tbody>\n",
       "    <tr>\n",
       "      <th>118</th>\n",
       "      <td>Aracaju</td>\n",
       "      <td>2018-01-01</td>\n",
       "      <td>3.34</td>\n",
       "      <td>1522</td>\n",
       "      <td>1</td>\n",
       "      <td>3.34</td>\n",
       "    </tr>\n",
       "    <tr>\n",
       "      <th>65</th>\n",
       "      <td>Recife</td>\n",
       "      <td>2019-01-01</td>\n",
       "      <td>4.01</td>\n",
       "      <td>981</td>\n",
       "      <td>1</td>\n",
       "      <td>4.01</td>\n",
       "    </tr>\n",
       "    <tr>\n",
       "      <th>92</th>\n",
       "      <td>Natal</td>\n",
       "      <td>2019-01-02</td>\n",
       "      <td>4.57</td>\n",
       "      <td>1035</td>\n",
       "      <td>1</td>\n",
       "      <td>4.57</td>\n",
       "    </tr>\n",
       "  </tbody>\n",
       "</table>\n",
       "</div>"
      ],
      "text/plain": [
       "      Cidade       Data  Vendas LojaID  Qtde  Receita\n",
       "118  Aracaju 2018-01-01    3.34   1522     1     3.34\n",
       "65    Recife 2019-01-01    4.01    981     1     4.01\n",
       "92     Natal 2019-01-02    4.57   1035     1     4.57"
      ]
     },
     "execution_count": 104,
     "metadata": {},
     "output_type": "execute_result"
    }
   ],
   "source": [
    "#Obtendo as 3 menores receitas\n",
    "dfLojas.nsmallest(3, \"Receita\")"
   ]
  },
  {
   "cell_type": "code",
   "execution_count": 105,
   "id": "781b6d9c-6ff0-4cd9-b705-59b1c4dd008d",
   "metadata": {},
   "outputs": [
    {
     "data": {
      "text/plain": [
       "Cidade\n",
       "Aracaju       48748.25\n",
       "Fortaleza     37913.97\n",
       "Natal        167227.52\n",
       "Recife        51936.51\n",
       "Salvador      40596.73\n",
       "Name: Receita, dtype: float64"
      ]
     },
     "execution_count": 105,
     "metadata": {},
     "output_type": "execute_result"
    }
   ],
   "source": [
    "#Retornando receita por cidade\n",
    "dfLojas.groupby(\"Cidade\")[\"Receita\"].sum()"
   ]
  },
  {
   "cell_type": "code",
   "execution_count": 106,
   "id": "4c33754e-617f-4220-b07c-c031bdead1af",
   "metadata": {},
   "outputs": [
    {
     "data": {
      "text/html": [
       "<div>\n",
       "<style scoped>\n",
       "    .dataframe tbody tr th:only-of-type {\n",
       "        vertical-align: middle;\n",
       "    }\n",
       "\n",
       "    .dataframe tbody tr th {\n",
       "        vertical-align: top;\n",
       "    }\n",
       "\n",
       "    .dataframe thead th {\n",
       "        text-align: right;\n",
       "    }\n",
       "</style>\n",
       "<table border=\"1\" class=\"dataframe\">\n",
       "  <thead>\n",
       "    <tr style=\"text-align: right;\">\n",
       "      <th></th>\n",
       "      <th>Cidade</th>\n",
       "      <th>Data</th>\n",
       "      <th>Vendas</th>\n",
       "      <th>LojaID</th>\n",
       "      <th>Qtde</th>\n",
       "      <th>Receita</th>\n",
       "    </tr>\n",
       "  </thead>\n",
       "  <tbody>\n",
       "    <tr>\n",
       "      <th>7</th>\n",
       "      <td>Natal</td>\n",
       "      <td>2019-03-18</td>\n",
       "      <td>886.0</td>\n",
       "      <td>853</td>\n",
       "      <td>4</td>\n",
       "      <td>3544.0</td>\n",
       "    </tr>\n",
       "    <tr>\n",
       "      <th>55</th>\n",
       "      <td>Natal</td>\n",
       "      <td>2019-01-08</td>\n",
       "      <td>859.0</td>\n",
       "      <td>854</td>\n",
       "      <td>4</td>\n",
       "      <td>3436.0</td>\n",
       "    </tr>\n",
       "    <tr>\n",
       "      <th>51</th>\n",
       "      <td>Natal</td>\n",
       "      <td>2018-01-21</td>\n",
       "      <td>859.0</td>\n",
       "      <td>852</td>\n",
       "      <td>4</td>\n",
       "      <td>3436.0</td>\n",
       "    </tr>\n",
       "    <tr>\n",
       "      <th>30</th>\n",
       "      <td>Natal</td>\n",
       "      <td>2018-10-02</td>\n",
       "      <td>856.0</td>\n",
       "      <td>853</td>\n",
       "      <td>4</td>\n",
       "      <td>3424.0</td>\n",
       "    </tr>\n",
       "    <tr>\n",
       "      <th>41</th>\n",
       "      <td>Natal</td>\n",
       "      <td>2018-05-20</td>\n",
       "      <td>835.0</td>\n",
       "      <td>852</td>\n",
       "      <td>4</td>\n",
       "      <td>3340.0</td>\n",
       "    </tr>\n",
       "    <tr>\n",
       "      <th>38</th>\n",
       "      <td>Natal</td>\n",
       "      <td>2018-02-25</td>\n",
       "      <td>828.0</td>\n",
       "      <td>852</td>\n",
       "      <td>4</td>\n",
       "      <td>3312.0</td>\n",
       "    </tr>\n",
       "    <tr>\n",
       "      <th>10</th>\n",
       "      <td>Natal</td>\n",
       "      <td>2018-10-27</td>\n",
       "      <td>828.0</td>\n",
       "      <td>852</td>\n",
       "      <td>4</td>\n",
       "      <td>3312.0</td>\n",
       "    </tr>\n",
       "    <tr>\n",
       "      <th>69</th>\n",
       "      <td>Natal</td>\n",
       "      <td>2019-03-24</td>\n",
       "      <td>817.0</td>\n",
       "      <td>852</td>\n",
       "      <td>4</td>\n",
       "      <td>3268.0</td>\n",
       "    </tr>\n",
       "    <tr>\n",
       "      <th>62</th>\n",
       "      <td>Natal</td>\n",
       "      <td>2018-02-10</td>\n",
       "      <td>793.0</td>\n",
       "      <td>854</td>\n",
       "      <td>4</td>\n",
       "      <td>3172.0</td>\n",
       "    </tr>\n",
       "    <tr>\n",
       "      <th>52</th>\n",
       "      <td>Natal</td>\n",
       "      <td>2018-04-27</td>\n",
       "      <td>778.0</td>\n",
       "      <td>854</td>\n",
       "      <td>4</td>\n",
       "      <td>3112.0</td>\n",
       "    </tr>\n",
       "  </tbody>\n",
       "</table>\n",
       "</div>"
      ],
      "text/plain": [
       "   Cidade       Data  Vendas LojaID  Qtde  Receita\n",
       "7   Natal 2019-03-18   886.0    853     4   3544.0\n",
       "55  Natal 2019-01-08   859.0    854     4   3436.0\n",
       "51  Natal 2018-01-21   859.0    852     4   3436.0\n",
       "30  Natal 2018-10-02   856.0    853     4   3424.0\n",
       "41  Natal 2018-05-20   835.0    852     4   3340.0\n",
       "38  Natal 2018-02-25   828.0    852     4   3312.0\n",
       "10  Natal 2018-10-27   828.0    852     4   3312.0\n",
       "69  Natal 2019-03-24   817.0    852     4   3268.0\n",
       "62  Natal 2018-02-10   793.0    854     4   3172.0\n",
       "52  Natal 2018-04-27   778.0    854     4   3112.0"
      ]
     },
     "execution_count": 106,
     "metadata": {},
     "output_type": "execute_result"
    }
   ],
   "source": [
    "#Ordenando as linhas com base na receita de maior para menor\n",
    "dfLojas.sort_values(\"Receita\", ascending = False).head(10)"
   ]
  },
  {
   "cell_type": "code",
   "execution_count": 107,
   "id": "417e1415-36bc-47b3-9290-09d34d5329d6",
   "metadata": {},
   "outputs": [
    {
     "data": {
      "text/plain": [
       "Data\n",
       "2018    118176.53\n",
       "2019    228246.45\n",
       "Name: Receita, dtype: float64"
      ]
     },
     "execution_count": 107,
     "metadata": {},
     "output_type": "execute_result"
    }
   ],
   "source": [
    "#Obtendo a receita aunal\n",
    "#Capturando da coluna apenas o ano das datas\n",
    "dfLojas.groupby(dfLojas[\"Data\"].dt.year)[\"Receita\"].sum()"
   ]
  },
  {
   "cell_type": "markdown",
   "id": "45e5ed5e-caf1-4b02-9f7f-e68302801da4",
   "metadata": {},
   "source": [
    "- Criando a coluna \"Ano\" na base de dados"
   ]
  },
  {
   "cell_type": "code",
   "execution_count": 108,
   "id": "f0590e09-0926-4c45-bac9-e44ce9577a62",
   "metadata": {},
   "outputs": [],
   "source": [
    "dfLojas[\"Ano\"] = dfLojas[\"Data\"].dt.year"
   ]
  },
  {
   "cell_type": "code",
   "execution_count": 109,
   "id": "f3aac875-0be3-4466-9395-7e32027b6573",
   "metadata": {},
   "outputs": [
    {
     "data": {
      "text/html": [
       "<div>\n",
       "<style scoped>\n",
       "    .dataframe tbody tr th:only-of-type {\n",
       "        vertical-align: middle;\n",
       "    }\n",
       "\n",
       "    .dataframe tbody tr th {\n",
       "        vertical-align: top;\n",
       "    }\n",
       "\n",
       "    .dataframe thead th {\n",
       "        text-align: right;\n",
       "    }\n",
       "</style>\n",
       "<table border=\"1\" class=\"dataframe\">\n",
       "  <thead>\n",
       "    <tr style=\"text-align: right;\">\n",
       "      <th></th>\n",
       "      <th>Cidade</th>\n",
       "      <th>Data</th>\n",
       "      <th>Vendas</th>\n",
       "      <th>LojaID</th>\n",
       "      <th>Qtde</th>\n",
       "      <th>Receita</th>\n",
       "      <th>Ano</th>\n",
       "    </tr>\n",
       "  </thead>\n",
       "  <tbody>\n",
       "    <tr>\n",
       "      <th>110</th>\n",
       "      <td>Recife</td>\n",
       "      <td>2019-03-02</td>\n",
       "      <td>51.98</td>\n",
       "      <td>983</td>\n",
       "      <td>6</td>\n",
       "      <td>311.88</td>\n",
       "      <td>2019</td>\n",
       "    </tr>\n",
       "    <tr>\n",
       "      <th>10</th>\n",
       "      <td>Fortaleza</td>\n",
       "      <td>2019-01-01</td>\n",
       "      <td>179.88</td>\n",
       "      <td>1002</td>\n",
       "      <td>4</td>\n",
       "      <td>719.52</td>\n",
       "      <td>2019</td>\n",
       "    </tr>\n",
       "    <tr>\n",
       "      <th>156</th>\n",
       "      <td>Natal</td>\n",
       "      <td>2019-01-02</td>\n",
       "      <td>36.14</td>\n",
       "      <td>1037</td>\n",
       "      <td>3</td>\n",
       "      <td>108.42</td>\n",
       "      <td>2019</td>\n",
       "    </tr>\n",
       "    <tr>\n",
       "      <th>1</th>\n",
       "      <td>Aracaju</td>\n",
       "      <td>2018-01-01</td>\n",
       "      <td>14.21</td>\n",
       "      <td>1522</td>\n",
       "      <td>6</td>\n",
       "      <td>85.26</td>\n",
       "      <td>2018</td>\n",
       "    </tr>\n",
       "    <tr>\n",
       "      <th>209</th>\n",
       "      <td>Salvador</td>\n",
       "      <td>2019-01-02</td>\n",
       "      <td>69.98</td>\n",
       "      <td>1034</td>\n",
       "      <td>2</td>\n",
       "      <td>139.96</td>\n",
       "      <td>2019</td>\n",
       "    </tr>\n",
       "  </tbody>\n",
       "</table>\n",
       "</div>"
      ],
      "text/plain": [
       "        Cidade       Data  Vendas LojaID  Qtde  Receita   Ano\n",
       "110     Recife 2019-03-02   51.98    983     6   311.88  2019\n",
       "10   Fortaleza 2019-01-01  179.88   1002     4   719.52  2019\n",
       "156      Natal 2019-01-02   36.14   1037     3   108.42  2019\n",
       "1      Aracaju 2018-01-01   14.21   1522     6    85.26  2018\n",
       "209   Salvador 2019-01-02   69.98   1034     2   139.96  2019"
      ]
     },
     "execution_count": 109,
     "metadata": {},
     "output_type": "execute_result"
    }
   ],
   "source": [
    "dfLojas.sample(5)"
   ]
  },
  {
   "cell_type": "code",
   "execution_count": 110,
   "id": "8c93e027-7245-40d0-94e6-f256cf2a4a7a",
   "metadata": {},
   "outputs": [
    {
     "data": {
      "text/plain": [
       "Timestamp('2018-01-01 00:00:00')"
      ]
     },
     "execution_count": 110,
     "metadata": {},
     "output_type": "execute_result"
    }
   ],
   "source": [
    "#Obtendo a data mais antiga\n",
    "dfLojas[\"Data\"].min()"
   ]
  },
  {
   "cell_type": "code",
   "execution_count": 111,
   "id": "f9b2fa08-9957-4d88-88b8-83953604fb46",
   "metadata": {},
   "outputs": [
    {
     "data": {
      "text/plain": [
       "Timestamp('2019-04-05 00:00:00')"
      ]
     },
     "execution_count": 111,
     "metadata": {},
     "output_type": "execute_result"
    }
   ],
   "source": [
    "#Obtendo a data mais recente\n",
    "dfLojas[\"Data\"].max()"
   ]
  },
  {
   "cell_type": "code",
   "execution_count": 112,
   "id": "931f0a3f-a0fb-4ec8-a59b-e35a66725d15",
   "metadata": {},
   "outputs": [],
   "source": [
    "#Btendo as vendas de março de 2019\n",
    "vendasMarco2019 = dfLojas.loc[(dfLojas[\"Data\"].dt.year == 2019) & (dfLojas[\"Data\"].dt.month == 3)] "
   ]
  },
  {
   "cell_type": "code",
   "execution_count": 113,
   "id": "73132ae4-3c5f-4e84-907b-26aebca454c0",
   "metadata": {},
   "outputs": [
    {
     "data": {
      "text/html": [
       "<div>\n",
       "<style scoped>\n",
       "    .dataframe tbody tr th:only-of-type {\n",
       "        vertical-align: middle;\n",
       "    }\n",
       "\n",
       "    .dataframe tbody tr th {\n",
       "        vertical-align: top;\n",
       "    }\n",
       "\n",
       "    .dataframe thead th {\n",
       "        text-align: right;\n",
       "    }\n",
       "</style>\n",
       "<table border=\"1\" class=\"dataframe\">\n",
       "  <thead>\n",
       "    <tr style=\"text-align: right;\">\n",
       "      <th></th>\n",
       "      <th>Cidade</th>\n",
       "      <th>Data</th>\n",
       "      <th>Vendas</th>\n",
       "      <th>LojaID</th>\n",
       "      <th>Qtde</th>\n",
       "      <th>Receita</th>\n",
       "      <th>Ano</th>\n",
       "    </tr>\n",
       "  </thead>\n",
       "  <tbody>\n",
       "    <tr>\n",
       "      <th>129</th>\n",
       "      <td>Recife</td>\n",
       "      <td>2019-03-02</td>\n",
       "      <td>35.34</td>\n",
       "      <td>982</td>\n",
       "      <td>7</td>\n",
       "      <td>247.38</td>\n",
       "      <td>2019</td>\n",
       "    </tr>\n",
       "    <tr>\n",
       "      <th>111</th>\n",
       "      <td>Recife</td>\n",
       "      <td>2019-03-02</td>\n",
       "      <td>8.00</td>\n",
       "      <td>981</td>\n",
       "      <td>3</td>\n",
       "      <td>24.00</td>\n",
       "      <td>2019</td>\n",
       "    </tr>\n",
       "    <tr>\n",
       "      <th>141</th>\n",
       "      <td>Recife</td>\n",
       "      <td>2019-03-02</td>\n",
       "      <td>182.75</td>\n",
       "      <td>983</td>\n",
       "      <td>8</td>\n",
       "      <td>1462.00</td>\n",
       "      <td>2019</td>\n",
       "    </tr>\n",
       "    <tr>\n",
       "      <th>118</th>\n",
       "      <td>Recife</td>\n",
       "      <td>2019-03-02</td>\n",
       "      <td>17.70</td>\n",
       "      <td>981</td>\n",
       "      <td>5</td>\n",
       "      <td>88.50</td>\n",
       "      <td>2019</td>\n",
       "    </tr>\n",
       "    <tr>\n",
       "      <th>130</th>\n",
       "      <td>Fortaleza</td>\n",
       "      <td>2019-03-02</td>\n",
       "      <td>12.36</td>\n",
       "      <td>983</td>\n",
       "      <td>4</td>\n",
       "      <td>49.44</td>\n",
       "      <td>2019</td>\n",
       "    </tr>\n",
       "    <tr>\n",
       "      <th>141</th>\n",
       "      <td>Salvador</td>\n",
       "      <td>2019-03-02</td>\n",
       "      <td>9.08</td>\n",
       "      <td>1036</td>\n",
       "      <td>1</td>\n",
       "      <td>9.08</td>\n",
       "      <td>2019</td>\n",
       "    </tr>\n",
       "    <tr>\n",
       "      <th>132</th>\n",
       "      <td>Fortaleza</td>\n",
       "      <td>2019-03-02</td>\n",
       "      <td>17.49</td>\n",
       "      <td>983</td>\n",
       "      <td>5</td>\n",
       "      <td>87.45</td>\n",
       "      <td>2019</td>\n",
       "    </tr>\n",
       "    <tr>\n",
       "      <th>140</th>\n",
       "      <td>Recife</td>\n",
       "      <td>2019-03-02</td>\n",
       "      <td>166.89</td>\n",
       "      <td>983</td>\n",
       "      <td>5</td>\n",
       "      <td>834.45</td>\n",
       "      <td>2019</td>\n",
       "    </tr>\n",
       "    <tr>\n",
       "      <th>119</th>\n",
       "      <td>Salvador</td>\n",
       "      <td>2019-03-02</td>\n",
       "      <td>136.37</td>\n",
       "      <td>1034</td>\n",
       "      <td>2</td>\n",
       "      <td>272.74</td>\n",
       "      <td>2019</td>\n",
       "    </tr>\n",
       "    <tr>\n",
       "      <th>66</th>\n",
       "      <td>Natal</td>\n",
       "      <td>2019-03-24</td>\n",
       "      <td>559.00</td>\n",
       "      <td>853</td>\n",
       "      <td>2</td>\n",
       "      <td>1118.00</td>\n",
       "      <td>2019</td>\n",
       "    </tr>\n",
       "    <tr>\n",
       "      <th>133</th>\n",
       "      <td>Recife</td>\n",
       "      <td>2019-03-02</td>\n",
       "      <td>14.67</td>\n",
       "      <td>980</td>\n",
       "      <td>7</td>\n",
       "      <td>102.69</td>\n",
       "      <td>2019</td>\n",
       "    </tr>\n",
       "    <tr>\n",
       "      <th>124</th>\n",
       "      <td>Recife</td>\n",
       "      <td>2019-03-02</td>\n",
       "      <td>47.98</td>\n",
       "      <td>983</td>\n",
       "      <td>7</td>\n",
       "      <td>335.86</td>\n",
       "      <td>2019</td>\n",
       "    </tr>\n",
       "    <tr>\n",
       "      <th>120</th>\n",
       "      <td>Salvador</td>\n",
       "      <td>2019-03-02</td>\n",
       "      <td>140.17</td>\n",
       "      <td>1036</td>\n",
       "      <td>2</td>\n",
       "      <td>280.34</td>\n",
       "      <td>2019</td>\n",
       "    </tr>\n",
       "    <tr>\n",
       "      <th>115</th>\n",
       "      <td>Fortaleza</td>\n",
       "      <td>2019-03-02</td>\n",
       "      <td>12.23</td>\n",
       "      <td>981</td>\n",
       "      <td>3</td>\n",
       "      <td>36.69</td>\n",
       "      <td>2019</td>\n",
       "    </tr>\n",
       "    <tr>\n",
       "      <th>116</th>\n",
       "      <td>Recife</td>\n",
       "      <td>2019-03-02</td>\n",
       "      <td>79.10</td>\n",
       "      <td>982</td>\n",
       "      <td>2</td>\n",
       "      <td>158.20</td>\n",
       "      <td>2019</td>\n",
       "    </tr>\n",
       "  </tbody>\n",
       "</table>\n",
       "</div>"
      ],
      "text/plain": [
       "        Cidade       Data  Vendas LojaID  Qtde  Receita   Ano\n",
       "129     Recife 2019-03-02   35.34    982     7   247.38  2019\n",
       "111     Recife 2019-03-02    8.00    981     3    24.00  2019\n",
       "141     Recife 2019-03-02  182.75    983     8  1462.00  2019\n",
       "118     Recife 2019-03-02   17.70    981     5    88.50  2019\n",
       "130  Fortaleza 2019-03-02   12.36    983     4    49.44  2019\n",
       "141   Salvador 2019-03-02    9.08   1036     1     9.08  2019\n",
       "132  Fortaleza 2019-03-02   17.49    983     5    87.45  2019\n",
       "140     Recife 2019-03-02  166.89    983     5   834.45  2019\n",
       "119   Salvador 2019-03-02  136.37   1034     2   272.74  2019\n",
       "66       Natal 2019-03-24  559.00    853     2  1118.00  2019\n",
       "133     Recife 2019-03-02   14.67    980     7   102.69  2019\n",
       "124     Recife 2019-03-02   47.98    983     7   335.86  2019\n",
       "120   Salvador 2019-03-02  140.17   1036     2   280.34  2019\n",
       "115  Fortaleza 2019-03-02   12.23    981     3    36.69  2019\n",
       "116     Recife 2019-03-02   79.10    982     2   158.20  2019"
      ]
     },
     "execution_count": 113,
     "metadata": {},
     "output_type": "execute_result"
    }
   ],
   "source": [
    "vendasMarco2019.sample(15)"
   ]
  },
  {
   "cell_type": "markdown",
   "id": "b62b26d9-db17-495a-8aaa-81707e4b422c",
   "metadata": {
    "tags": []
   },
   "source": [
    "### Visualização de Dados"
   ]
  },
  {
   "cell_type": "code",
   "execution_count": 114,
   "id": "8449e3fe-db1c-4f18-aa78-1ac0bde6ca8a",
   "metadata": {},
   "outputs": [
    {
     "data": {
      "text/plain": [
       "1036    117\n",
       "1035    112\n",
       "1037    101\n",
       "1034     67\n",
       "983      65\n",
       "982      44\n",
       "1522     41\n",
       "1520     39\n",
       "980      36\n",
       "981      31\n",
       "1005     30\n",
       "1002     30\n",
       "852      29\n",
       "1523     29\n",
       "1004     28\n",
       "854      28\n",
       "853      26\n",
       "1521     21\n",
       "1003     20\n",
       "Name: LojaID, dtype: int64"
      ]
     },
     "execution_count": 114,
     "metadata": {},
     "output_type": "execute_result"
    }
   ],
   "source": [
    "#Vendas de cada loja\n",
    "dfLojas[\"LojaID\"].value_counts(ascending = False)"
   ]
  },
  {
   "cell_type": "code",
   "execution_count": 115,
   "id": "2212efb1-ed93-4f9c-8d42-392976a94d4e",
   "metadata": {},
   "outputs": [
    {
     "data": {
      "image/png": "[encoded data removed]",
      "text/plain": [
       "<Figure size 640x480 with 1 Axes>"
      ]
     },
     "metadata": {},
     "output_type": "display_data"
    }
   ],
   "source": [
    "#Vendas de cada loja\n",
    "dfLojas[\"LojaID\"].value_counts(ascending = True).plot.barh();"
   ]
  },
  {
   "cell_type": "code",
   "execution_count": 116,
   "id": "af10a119-2a87-4ea2-99b3-0b499b0f1c23",
   "metadata": {},
   "outputs": [
    {
     "data": {
      "image/png": "[encoded data removed]",
      "text/plain": [
       "<Figure size 640x480 with 1 Axes>"
      ]
     },
     "metadata": {},
     "output_type": "display_data"
    }
   ],
   "source": [
    "#Receita em cada ano\n",
    "dfLojas.groupby(dfLojas[\"Data\"].dt.year)[\"Receita\"].sum().plot.pie();"
   ]
  },
  {
   "cell_type": "code",
   "execution_count": 117,
   "id": "29f3ae00-24c9-4d89-9c9d-b10b7c57bcf7",
   "metadata": {},
   "outputs": [
    {
     "data": {
      "image/png": "[encoded data removed]",
      "text/plain": [
       "<Figure size 640x480 with 1 Axes>"
      ]
     },
     "metadata": {},
     "output_type": "display_data"
    }
   ],
   "source": [
    "#Quantidade de vendas por cidade\n",
    "dfLojas[\"Cidade\"].value_counts(ascending = True).plot.barh(title = \"Quantidade de Vendas por Cidade\")\n",
    "plt.xlabel(\"Quantidade de vendas\")\n",
    "plt.ylabel(\"Cidade\");"
   ]
  },
  {
   "cell_type": "markdown",
   "id": "9b7098c9-a4c0-4e71-b4c3-4d506ca985f3",
   "metadata": {},
   "source": [
    "- Vendas em 2019."
   ]
  },
  {
   "cell_type": "code",
   "execution_count": 118,
   "id": "ff4b648d-6802-4e55-ba8c-9240100fb14e",
   "metadata": {},
   "outputs": [],
   "source": [
    "vendas2019 = dfLojas.loc[dfLojas[\"Data\"].dt.year == 2019]"
   ]
  },
  {
   "cell_type": "code",
   "execution_count": 119,
   "id": "083af7c0-c15b-42ac-913f-b448c1ee20b1",
   "metadata": {},
   "outputs": [
    {
     "data": {
      "text/html": [
       "<div>\n",
       "<style scoped>\n",
       "    .dataframe tbody tr th:only-of-type {\n",
       "        vertical-align: middle;\n",
       "    }\n",
       "\n",
       "    .dataframe tbody tr th {\n",
       "        vertical-align: top;\n",
       "    }\n",
       "\n",
       "    .dataframe thead th {\n",
       "        text-align: right;\n",
       "    }\n",
       "</style>\n",
       "<table border=\"1\" class=\"dataframe\">\n",
       "  <thead>\n",
       "    <tr style=\"text-align: right;\">\n",
       "      <th></th>\n",
       "      <th>Cidade</th>\n",
       "      <th>Data</th>\n",
       "      <th>Vendas</th>\n",
       "      <th>LojaID</th>\n",
       "      <th>Qtde</th>\n",
       "      <th>Receita</th>\n",
       "      <th>Ano</th>\n",
       "    </tr>\n",
       "  </thead>\n",
       "  <tbody>\n",
       "    <tr>\n",
       "      <th>7</th>\n",
       "      <td>Aracaju</td>\n",
       "      <td>2019-01-01</td>\n",
       "      <td>172.22</td>\n",
       "      <td>1522</td>\n",
       "      <td>6</td>\n",
       "      <td>1033.32</td>\n",
       "      <td>2019</td>\n",
       "    </tr>\n",
       "    <tr>\n",
       "      <th>8</th>\n",
       "      <td>Aracaju</td>\n",
       "      <td>2019-01-01</td>\n",
       "      <td>12.16</td>\n",
       "      <td>1523</td>\n",
       "      <td>1</td>\n",
       "      <td>12.16</td>\n",
       "      <td>2019</td>\n",
       "    </tr>\n",
       "    <tr>\n",
       "      <th>9</th>\n",
       "      <td>Aracaju</td>\n",
       "      <td>2019-01-01</td>\n",
       "      <td>149.36</td>\n",
       "      <td>1523</td>\n",
       "      <td>3</td>\n",
       "      <td>448.08</td>\n",
       "      <td>2019</td>\n",
       "    </tr>\n",
       "    <tr>\n",
       "      <th>10</th>\n",
       "      <td>Aracaju</td>\n",
       "      <td>2019-01-01</td>\n",
       "      <td>42.34</td>\n",
       "      <td>1522</td>\n",
       "      <td>6</td>\n",
       "      <td>254.04</td>\n",
       "      <td>2019</td>\n",
       "    </tr>\n",
       "    <tr>\n",
       "      <th>11</th>\n",
       "      <td>Aracaju</td>\n",
       "      <td>2019-01-01</td>\n",
       "      <td>161.53</td>\n",
       "      <td>1520</td>\n",
       "      <td>4</td>\n",
       "      <td>646.12</td>\n",
       "      <td>2019</td>\n",
       "    </tr>\n",
       "  </tbody>\n",
       "</table>\n",
       "</div>"
      ],
      "text/plain": [
       "     Cidade       Data  Vendas LojaID  Qtde  Receita   Ano\n",
       "7   Aracaju 2019-01-01  172.22   1522     6  1033.32  2019\n",
       "8   Aracaju 2019-01-01   12.16   1523     1    12.16  2019\n",
       "9   Aracaju 2019-01-01  149.36   1523     3   448.08  2019\n",
       "10  Aracaju 2019-01-01   42.34   1522     6   254.04  2019\n",
       "11  Aracaju 2019-01-01  161.53   1520     4   646.12  2019"
      ]
     },
     "execution_count": 119,
     "metadata": {},
     "output_type": "execute_result"
    }
   ],
   "source": [
    "vendas2019.head()"
   ]
  },
  {
   "cell_type": "code",
   "execution_count": 121,
   "id": "42efe373-a8dd-474e-815f-677dcb8a2975",
   "metadata": {},
   "outputs": [
    {
     "data": {
      "image/png": "[encoded data removed]",
      "text/plain": [
       "<Figure size 640x480 with 1 Axes>"
      ]
     },
     "metadata": {},
     "output_type": "display_data"
    }
   ],
   "source": [
    "vendas2019.groupby(vendas2019[\"Data\"].dt.month)[\"Qtde\"].sum().plot(title = \"Vendas por mês 2019\", marker = \"*\");"
   ]
  },
  {
   "cell_type": "code",
   "execution_count": 123,
   "id": "fa7dd394-e565-47a2-9ad3-ec0373fa6a10",
   "metadata": {},
   "outputs": [
    {
     "data": {
      "image/png": "[encoded data removed]",
      "text/plain": [
       "<Figure size 640x480 with 1 Axes>"
      ]
     },
     "metadata": {},
     "output_type": "display_data"
    }
   ],
   "source": [
    "plt.hist(dfLojas[\"Qtde\"], color = \"coral\");"
   ]
  },
  {
   "cell_type": "code",
   "execution_count": 125,
   "id": "e362d46e-2b0c-4e0a-8e8b-0909f4b575d5",
   "metadata": {},
   "outputs": [
    {
     "data": {
      "image/png": "[encoded data removed]",
      "text/plain": [
       "<Figure size 640x480 with 1 Axes>"
      ]
     },
     "metadata": {},
     "output_type": "display_data"
    }
   ],
   "source": [
    "plt.scatter(x = vendas2019[\"Data\"].dt.day, y = vendas2019[\"Receita\"])\n",
    "plt.xlabel(\"Dia da venda\")\n",
    "plt.ylabel(\"Receita\");"
   ]
  }
 ],
 "metadata": {
  "kernelspec": {
   "display_name": "Python 3 (ipykernel)",
   "language": "python",
   "name": "python3"
  },
  "language_info": {
   "codemirror_mode": {
    "name": "ipython",
    "version": 3
   },
   "file_extension": ".py",
   "mimetype": "text/x-python",
   "name": "python",
   "nbconvert_exporter": "python",
   "pygments_lexer": "ipython3",
   "version": "3.10.2"
  }
 },
 "nbformat": 4,
 "nbformat_minor": 5
}
